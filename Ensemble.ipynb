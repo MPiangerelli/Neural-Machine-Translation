{
  "cells": [
    {
      "cell_type": "markdown",
      "metadata": {
        "id": "qraNJJiwRA_5"
      },
      "source": [
        "## Imports"
      ]
    },
    {
      "cell_type": "code",
      "execution_count": null,
      "metadata": {
        "colab": {
          "base_uri": "https://localhost:8080/"
        },
        "id": "xf2gqVLEGpS7",
        "outputId": "93935718-5c78-4ea7-b1da-5372bc9cfad6"
      },
      "outputs": [],
      "source": [
        "!pip install transformers\n",
        "\n",
        "!pip install datasets\n",
        "\n",
        "!pip install sacrebleu"
      ]
    },
    {
      "cell_type": "code",
      "execution_count": null,
      "metadata": {
        "colab": {
          "base_uri": "https://localhost:8080/"
        },
        "id": "zL03b1spGz8Z",
        "outputId": "b4cae4be-3f00-4d50-88d1-d96bfeccbd54"
      },
      "outputs": [],
      "source": [
        "!pip install torch==1.11.0"
      ]
    },
    {
      "cell_type": "code",
      "execution_count": null,
      "metadata": {
        "colab": {
          "base_uri": "https://localhost:8080/"
        },
        "id": "Pr-Iv48fG2da",
        "outputId": "2b8d340d-76e9-4332-fe4c-7d0c6f21e920"
      },
      "outputs": [],
      "source": [
        "from google.colab import drive\n",
        "drive.mount('/content/gdrive')"
      ]
    },
    {
      "cell_type": "code",
      "execution_count": null,
      "metadata": {
        "colab": {
          "base_uri": "https://localhost:8080/"
        },
        "id": "Xq3G35neG3yj",
        "outputId": "f258e384-b1ff-4023-813c-9cffff4e79a6"
      },
      "outputs": [],
      "source": [
        "drive.mount(\"/content/gdrive\", force_remount=True)"
      ]
    },
    {
      "cell_type": "markdown",
      "metadata": {
        "id": "ucEkFLtVUvrh"
      },
      "source": [
        "## Test Dataset Loading"
      ]
    },
    {
      "cell_type": "code",
      "execution_count": null,
      "metadata": {
        "id": "_uqBSrD7G6Hx"
      },
      "outputs": [],
      "source": [
        "BASE_PATH = \"/content/gdrive/MyDrive/experiments\"\n",
        "\n",
        "CLASSIFIER_CHECKPOINT = f\"{BASE_PATH}/classifier/checkpoint-30\"\n",
        "UNRESTRICTED_CHECKPOINT = f\"{BASE_PATH}/unrestricted_split/checkpoint-8750/\"\n",
        "RESTRICTED_CHECKPOINT = f\"{BASE_PATH}/restricted/checkpoint-3125/\"\n",
        "\n",
        "UNRESTRICTED_TEST_PATH = f\"{BASE_PATH}/unrestricted_test_dataset.csv\"\n",
        "RESTRICTED_TEST_PATH = f\"{BASE_PATH}/restricted_test_dataset.csv\""
      ]
    },
    {
      "cell_type": "code",
      "execution_count": null,
      "metadata": {
        "colab": {
          "base_uri": "https://localhost:8080/",
          "height": 292,
          "referenced_widgets": [
            "98946d6467f2439da819d387e4e19b7f",
            "7f1bfc6f66b44989b2bd7ed40d4f36f7",
            "84d5d5d3685f4b2db6e2e2a388440c8c",
            "e80da1ba82e340b28d344ff1008f661a",
            "10d273e665e34713b50a619531405ac4",
            "a0a48a59cb844765bd6b406bf2c06b86",
            "7ee85ac0d96145c3a8248a89c6d20cba",
            "b7cccb6e6fb843beb492565a267bd2cc",
            "a60ba6beb01a4091a9af66c054a8330d",
            "20d61d0b42ce45cbac8097eb748486b5",
            "d0b902dd2698413689fb9c63c2189b6e",
            "14537b2cfe3847aa98de2f7b3ebe3b1b",
            "52e80ef969f24199be97287ca8cf2835",
            "1a808fe0a51842eea3752e1eb41ef903",
            "cefd98f7bd4a448e9036562a0f277dc6",
            "83a8b3c0136c4816b497d190cd5fa74d",
            "6106c5fdb3a541af8f2a913d90848c00",
            "bbf27e699a0840dc95b940442d22eea1",
            "547301986855440689cca0bdeb857431",
            "45881d5d408849e5808d4e8c8df775d7",
            "ff136d0dde6143dcac55d39f08547ce7",
            "31525b3bc06b4d9bb5e268973711ead1"
          ]
        },
        "id": "icPXeqmnJ6jv",
        "outputId": "e086c638-cad4-4c13-86e1-a7c970191cb7"
      },
      "outputs": [],
      "source": [
        "import pandas as pd\n",
        "from datasets import load_dataset, Dataset, DatasetDict, concatenate_datasets\n",
        "\n",
        "unrestricted_test_set = load_dataset('csv', data_files=UNRESTRICTED_TEST_PATH)\n",
        "restricted_test_set = load_dataset('csv', data_files=RESTRICTED_TEST_PATH)\n",
        "\n",
        "unrestricted_test_set['train'] = unrestricted_test_set['train'].add_column('label', [0] * len(unrestricted_test_set['train']))\n",
        "restricted_test_set['train'] = restricted_test_set['train'].add_column('label', [1] * len(restricted_test_set['train']))\n",
        "\n",
        "test_dataset = concatenate_datasets([unrestricted_test_set['train'], restricted_test_set['train']]).shuffle()\n",
        "\n",
        "dataset = DatasetDict({'test': test_dataset})\n",
        "\n",
        "dataset"
      ]
    },
    {
      "cell_type": "markdown",
      "metadata": {
        "id": "B33dguXnQ0lV"
      },
      "source": [
        "## Classifier"
      ]
    },
    {
      "cell_type": "code",
      "execution_count": null,
      "metadata": {
        "colab": {
          "base_uri": "https://localhost:8080/"
        },
        "id": "2Pn4rHCOPBzQ",
        "outputId": "a866a70f-8004-4d51-cc61-9f1d083bacb0"
      },
      "outputs": [],
      "source": [
        "from transformers import AutoTokenizer\n",
        "\n",
        "cls_tokenizer = AutoTokenizer.from_pretrained(\"distilbert-base-uncased\")"
      ]
    },
    {
      "cell_type": "code",
      "execution_count": null,
      "metadata": {
        "id": "aJiplxdoPEL6"
      },
      "outputs": [],
      "source": [
        "def preprocess_function(examples):\n",
        "    return cls_tokenizer(examples[\"en\"], truncation=True)"
      ]
    },
    {
      "cell_type": "code",
      "execution_count": null,
      "metadata": {
        "colab": {
          "base_uri": "https://localhost:8080/"
        },
        "id": "x005cAacPh1v",
        "outputId": "3f88b068-74da-47e7-f98e-3b64d94cd14b"
      },
      "outputs": [],
      "source": [
        "tokenized_dataset = test_dataset.map(preprocess_function, batched=True)"
      ]
    },
    {
      "cell_type": "code",
      "execution_count": null,
      "metadata": {
        "colab": {
          "base_uri": "https://localhost:8080/"
        },
        "id": "ZkcXLtpZPnX4",
        "outputId": "f1e821a7-95d8-4a31-964f-9696d44a0a72"
      },
      "outputs": [],
      "source": [
        "tokenized_dataset"
      ]
    },
    {
      "cell_type": "code",
      "execution_count": null,
      "metadata": {
        "id": "BXjaVO5nP2wv"
      },
      "outputs": [],
      "source": [
        "from transformers import DataCollatorWithPadding\n",
        "\n",
        "cls_data_collator = DataCollatorWithPadding(tokenizer=cls_tokenizer)"
      ]
    },
    {
      "cell_type": "code",
      "execution_count": null,
      "metadata": {
        "colab": {
          "base_uri": "https://localhost:8080/"
        },
        "id": "pzY3oQ6yPqfp",
        "outputId": "c15d2ef6-438a-4206-d221-ac8a8996bdc5"
      },
      "outputs": [],
      "source": [
        "from transformers import AutoModelForSequenceClassification, TrainingArguments, Trainer\n",
        "\n",
        "cls_model = AutoModelForSequenceClassification.from_pretrained(CLASSIFIER_CHECKPOINT, num_labels=2)\n",
        "\n",
        "cls_model.resize_token_embeddings(len(cls_tokenizer))"
      ]
    },
    {
      "cell_type": "code",
      "execution_count": null,
      "metadata": {
        "colab": {
          "base_uri": "https://localhost:8080/"
        },
        "id": "_usemIGePr5i",
        "outputId": "62dbcfdd-705b-4ed0-b294-25e83d75e7e4"
      },
      "outputs": [],
      "source": [
        "print(\"For T5:\")\n",
        "print(\"Tokenizer vocab_size: {}\".format(cls_tokenizer.vocab_size))\n",
        "print(\"Model vocab size: {}\\n\".format(cls_model.config.vocab_size))"
      ]
    },
    {
      "cell_type": "code",
      "execution_count": null,
      "metadata": {
        "colab": {
          "base_uri": "https://localhost:8080/"
        },
        "id": "5VaKZpV4P7yY",
        "outputId": "1a9fd3cc-175a-487c-bbcc-0268c5f3adc3"
      },
      "outputs": [],
      "source": [
        "RESULTS_DIR = \"/content/gdrive/MyDrive/experiments/ensemble\"\n",
        "\n",
        "STEPS = 31\n",
        "\n",
        "cls_training_args = TrainingArguments(\n",
        "    output_dir=RESULTS_DIR,\n",
        "    evaluation_strategy=\"steps\",\n",
        "    eval_steps=STEPS,\n",
        "    learning_rate=2e-5,\n",
        "    per_device_train_batch_size=16,\n",
        "    per_device_eval_batch_size=16,\n",
        "    weight_decay=0.01,\n",
        "    save_total_limit=1,\n",
        "    # num_train_epochs=1,\n",
        "    max_steps=STEPS,\n",
        "    adam_beta2=0.98,\n",
        "    warmup_steps=100,\n",
        "    optim=\"adamw_torch\",\n",
        "    fp16=True,\n",
        "    save_strategy='steps',\n",
        "    save_steps=STEPS-1\n",
        ")"
      ]
    },
    {
      "cell_type": "code",
      "execution_count": null,
      "metadata": {
        "id": "KIwM9IOFP9Q7"
      },
      "outputs": [],
      "source": [
        "import numpy as np\n",
        "from datasets import load_metric\n",
        "from sklearn.metrics import precision_recall_fscore_support\n",
        "\n",
        "accuracy = load_metric(\"accuracy\")\n",
        "\n",
        "def cls_compute_metrics(eval_preds):\n",
        "    labels = eval_preds.label_ids\n",
        "    preds = eval_preds.predictions.argmax(-1)\n",
        "    precision, recall, f1, _ = precision_recall_fscore_support(labels, preds, average='binary')\n",
        "    acc = accuracy.compute(references=labels, predictions=preds)\n",
        "    return {\n",
        "        'accuracy': acc,\n",
        "        'f1': f1,\n",
        "        'precision': precision,\n",
        "        'recall': recall,\n",
        "        'preds': preds,\n",
        "        'labels': labels\n",
        "    }"
      ]
    },
    {
      "cell_type": "code",
      "execution_count": null,
      "metadata": {
        "colab": {
          "base_uri": "https://localhost:8080/"
        },
        "id": "Nu2BO7knP-05",
        "outputId": "dcebe9d7-5433-452b-e536-7a4269fb7dfd"
      },
      "outputs": [],
      "source": [
        "cls_trainer = Trainer(\n",
        "    model=cls_model,\n",
        "    args=cls_training_args,\n",
        "    train_dataset=tokenized_dataset,\n",
        "    eval_dataset=tokenized_dataset,\n",
        "    tokenizer=cls_tokenizer,\n",
        "    data_collator=cls_data_collator,\n",
        "    compute_metrics=cls_compute_metrics\n",
        ")\n",
        "\n",
        "# trainer.train(\"/content/gdrive/MyDrive/final_thesis_experiments/checkpoint-5625/\")\n",
        "# trainer.train()"
      ]
    },
    {
      "cell_type": "code",
      "execution_count": null,
      "metadata": {
        "colab": {
          "base_uri": "https://localhost:8080/",
          "height": 369
        },
        "id": "FDMskwb3QBzS",
        "outputId": "d93be8b0-561f-44df-ba89-5a587df9a87f"
      },
      "outputs": [],
      "source": [
        "evaluation = cls_trainer.evaluate(tokenized_dataset)\n",
        "\n",
        "evaluation"
      ]
    },
    {
      "cell_type": "code",
      "execution_count": null,
      "metadata": {
        "colab": {
          "base_uri": "https://localhost:8080/"
        },
        "id": "ZXfhyzNwzqRr",
        "outputId": "70bcfcd7-d59b-4ebb-8a2c-3ab8d263e7bd"
      },
      "outputs": [],
      "source": [
        "cls_prediction = evaluation['eval_preds']\n",
        "\n",
        "cls_prediction"
      ]
    },
    {
      "cell_type": "markdown",
      "metadata": {
        "id": "-f9uiuE6T_0c"
      },
      "source": [
        "## Unrestricted"
      ]
    },
    {
      "cell_type": "code",
      "execution_count": null,
      "metadata": {
        "colab": {
          "base_uri": "https://localhost:8080/"
        },
        "id": "CjKGJF_AO6qB",
        "outputId": "a7a7080b-38d7-43aa-995a-8beed07ee891"
      },
      "outputs": [],
      "source": [
        "unrestricted_dataset = test_dataset.filter(lambda example, idx: cls_prediction[idx] == 0, with_indices=True)\n",
        "\n",
        "unrestricted_dataset = unrestricted_dataset.remove_columns(\"label\")\n",
        "\n",
        "unrestricted_dataset"
      ]
    },
    {
      "cell_type": "code",
      "execution_count": null,
      "metadata": {
        "colab": {
          "base_uri": "https://localhost:8080/"
        },
        "id": "Hbpq_JLTURVc",
        "outputId": "439ae5c4-de0c-4b9c-fc82-49bb01db9555"
      },
      "outputs": [],
      "source": [
        "from transformers import AutoTokenizer\n",
        "\n",
        "unrestricted_tokenizer = AutoTokenizer.from_pretrained(\"t5-base\")"
      ]
    },
    {
      "cell_type": "code",
      "execution_count": null,
      "metadata": {
        "id": "EBICqN-DURVd"
      },
      "outputs": [],
      "source": [
        "source_lang = \"en\"\n",
        "target_lang = \"ltl\"\n",
        "prefix = \"translate English to LTL: \"\n",
        "\n",
        "\n",
        "def preprocess_function(examples):\n",
        "    inputs = [prefix + example.replace('_', ' _ ').replace(',', ' ,') for example in examples[source_lang]]\n",
        "    targets = [example.replace('_', ' _ ') for example in examples[target_lang]]\n",
        "    model_inputs = unrestricted_tokenizer(inputs, max_length=256, truncation=True)\n",
        "\n",
        "    with unrestricted_tokenizer.as_target_tokenizer():\n",
        "        labels = unrestricted_tokenizer(targets, max_length=256, truncation=True)\n",
        "\n",
        "    model_inputs[\"labels\"] = labels[\"input_ids\"]\n",
        "    return model_inputs"
      ]
    },
    {
      "cell_type": "code",
      "execution_count": null,
      "metadata": {
        "colab": {
          "base_uri": "https://localhost:8080/"
        },
        "id": "sTvJHfyCURVe",
        "outputId": "87c28117-38aa-4190-8317-35f24a6a2458"
      },
      "outputs": [],
      "source": [
        "unrestricted_tokenized_dataset = unrestricted_dataset.map(preprocess_function, batched=True)"
      ]
    },
    {
      "cell_type": "code",
      "execution_count": null,
      "metadata": {
        "colab": {
          "base_uri": "https://localhost:8080/"
        },
        "id": "TtKIsM_lURVf",
        "outputId": "c3533fa6-e257-4fcb-ed20-cb1b8402aaca"
      },
      "outputs": [],
      "source": [
        "unrestricted_tokenized_dataset"
      ]
    },
    {
      "cell_type": "code",
      "execution_count": null,
      "metadata": {
        "colab": {
          "base_uri": "https://localhost:8080/"
        },
        "id": "YtyYKjiXURVg",
        "outputId": "6520f60c-da10-4551-feb4-bd8f806bee69"
      },
      "outputs": [],
      "source": [
        "unrestricted_tokenized_dataset['en'][:10]"
      ]
    },
    {
      "cell_type": "code",
      "execution_count": null,
      "metadata": {
        "colab": {
          "base_uri": "https://localhost:8080/"
        },
        "id": "CSC8cAczURVg",
        "outputId": "fb3d75d2-cb39-4b09-f61b-4476c973f625"
      },
      "outputs": [],
      "source": [
        "from transformers import AutoModelForSeq2SeqLM, Seq2SeqTrainingArguments, Seq2SeqTrainer\n",
        "\n",
        "unrestricted_model = AutoModelForSeq2SeqLM.from_pretrained(UNRESTRICTED_CHECKPOINT)\n",
        "\n",
        "unrestricted_model.resize_token_embeddings(len(unrestricted_tokenizer))"
      ]
    },
    {
      "cell_type": "code",
      "execution_count": null,
      "metadata": {
        "colab": {
          "base_uri": "https://localhost:8080/"
        },
        "id": "hUVhBmvlURVh",
        "outputId": "06443b58-8053-490e-9bab-4ce9e70770fb"
      },
      "outputs": [],
      "source": [
        "print(\"For T5:\")\n",
        "print(\"Tokenizer vocab_size: {}\".format(unrestricted_tokenizer.vocab_size))\n",
        "print(\"Model vocab size: {}\\n\".format(unrestricted_model.config.vocab_size))"
      ]
    },
    {
      "cell_type": "code",
      "execution_count": null,
      "metadata": {
        "id": "Eu_cqXjcURVj"
      },
      "outputs": [],
      "source": [
        "from transformers import DataCollatorForSeq2Seq\n",
        "\n",
        "unrestricted_data_collator = DataCollatorForSeq2Seq(tokenizer=unrestricted_tokenizer, model=unrestricted_model)"
      ]
    },
    {
      "cell_type": "code",
      "execution_count": null,
      "metadata": {
        "colab": {
          "base_uri": "https://localhost:8080/"
        },
        "id": "xyRbXTODURVk",
        "outputId": "bb4f2ba0-ecbb-48c6-c40c-e3e677b3e387"
      },
      "outputs": [],
      "source": [
        "unrestricted_training_args = Seq2SeqTrainingArguments(\n",
        "    output_dir=RESULTS_DIR,\n",
        "    evaluation_strategy=\"epoch\",\n",
        "    learning_rate=0.0001,\n",
        "    per_device_train_batch_size=16,\n",
        "    per_device_eval_batch_size=16,\n",
        "    weight_decay=0.01,\n",
        "    save_total_limit=1,\n",
        "    num_train_epochs=1,\n",
        "    adam_beta2=0.98,\n",
        "    warmup_steps=4000,\n",
        "    optim=\"adamw_torch\",\n",
        "    fp16=True,\n",
        "    predict_with_generate=True,\n",
        "    generation_max_length=256,\n",
        "    save_strategy='epoch'\n",
        ")"
      ]
    },
    {
      "cell_type": "code",
      "execution_count": null,
      "metadata": {
        "id": "5EtQsvSB7PdG"
      },
      "outputs": [],
      "source": [
        "import numpy as np\n",
        "from datasets import load_metric\n",
        "\n",
        "sacrebleu = load_metric(\"sacrebleu\")"
      ]
    },
    {
      "cell_type": "code",
      "execution_count": null,
      "metadata": {
        "id": "jshVkEU45n-O"
      },
      "outputs": [],
      "source": [
        "def postprocess_text(preds, labels):\n",
        "    preds = [pred.strip() for pred in preds]\n",
        "    labels = [[label.strip()] for label in labels]\n",
        "    return preds, labels\n",
        "\n",
        "def compute_metrics(eval_preds):\n",
        "    preds, labels = eval_preds\n",
        "    if isinstance(preds, tuple):\n",
        "        preds = preds[0]\n",
        "    decoded_preds = unrestricted_tokenizer.batch_decode(preds, skip_special_tokens=True)\n",
        "    # Replace -100 in the labels as we can't decode them.\n",
        "    labels = np.where(labels != -100, labels, unrestricted_tokenizer.pad_token_id)\n",
        "    decoded_labels = unrestricted_tokenizer.batch_decode(labels, skip_special_tokens=True)\n",
        "    # Some simple post-processing\n",
        "    decoded_preds, decoded_labels = postprocess_text(decoded_preds, decoded_labels)\n",
        "    result = sacrebleu.compute(predictions=decoded_preds, references=decoded_labels)\n",
        "    result = {\"bleu\": result[\"score\"]}\n",
        "    prediction_lens = [np.count_nonzero(pred != unrestricted_tokenizer.pad_token_id) for pred in preds]\n",
        "    result[\"gen_len\"] = np.mean(prediction_lens)\n",
        "    result = {k: round(v, 4) for k, v in result.items()}\n",
        "    result['preds'] = decoded_preds\n",
        "    result['lbls'] = decoded_labels\n",
        "    return result"
      ]
    },
    {
      "cell_type": "code",
      "execution_count": null,
      "metadata": {
        "colab": {
          "base_uri": "https://localhost:8080/"
        },
        "id": "rnuawX6vURVn",
        "outputId": "a00265f4-3bfd-4787-e5ef-2b43af46bfa5"
      },
      "outputs": [],
      "source": [
        "unrestricted_trainer = Seq2SeqTrainer(\n",
        "    model=unrestricted_model,\n",
        "    args=unrestricted_training_args,\n",
        "    train_dataset=unrestricted_tokenized_dataset,\n",
        "    eval_dataset=unrestricted_tokenized_dataset,\n",
        "    tokenizer=unrestricted_tokenizer,\n",
        "    data_collator=unrestricted_data_collator,\n",
        "    compute_metrics=compute_metrics,\n",
        ")\n",
        "\n",
        "# trainer.train(\"/content/gdrive/MyDrive/final_thesis_experiments/checkpoint-5625/\")\n",
        "# trainer.train()"
      ]
    },
    {
      "cell_type": "code",
      "execution_count": null,
      "metadata": {
        "colab": {
          "base_uri": "https://localhost:8080/",
          "height": 1000
        },
        "id": "ycOIeDhGURVo",
        "outputId": "5f997afe-9384-44d2-bc0f-541ebed3f2e2"
      },
      "outputs": [],
      "source": [
        "unrestricted_results = unrestricted_trainer.evaluate(unrestricted_tokenized_dataset, max_length=256)\n",
        "\n",
        "unrestricted_results"
      ]
    },
    {
      "cell_type": "code",
      "execution_count": null,
      "metadata": {
        "colab": {
          "base_uri": "https://localhost:8080/"
        },
        "id": "1ZfEzdR19drW",
        "outputId": "15a2241e-4881-4250-8d26-c25e744a0199"
      },
      "outputs": [],
      "source": [
        "unrestricted_results = {\n",
        "    'preds': unrestricted_results['eval_preds'],\n",
        "    'labels': unrestricted_results['eval_lbls']\n",
        "    }\n",
        "\n",
        "unrestricted_results"
      ]
    },
    {
      "cell_type": "markdown",
      "metadata": {
        "id": "aIpoOQNNUDRH"
      },
      "source": [
        "## Domain-Specific"
      ]
    },
    {
      "cell_type": "code",
      "execution_count": null,
      "metadata": {
        "colab": {
          "base_uri": "https://localhost:8080/",
          "height": 118,
          "referenced_widgets": [
            "e851dd6067944891849085d18ea367f8",
            "eba7ded6c45245c2864b9f22c9cd39a9",
            "00330bcddb624679a97abc951e39ab7d",
            "4021476a85384c8599fd98ab81c5f549",
            "f52b351595ea4eaf91a9730c95324bbc",
            "811b9ebcc0084c1c9380dd67ce38982c",
            "5742b3e4df00424dbb71c70099148a45",
            "da4af903ae1d40518571ffb6f8a6d903",
            "42de86fa10484ecaab0b13e1f65cb5ee",
            "04ee9877b2634588935137907d93723b",
            "c89dc458d16e42fa960d65ad0569a6f9"
          ]
        },
        "id": "41GzWoPGUiYh",
        "outputId": "c5f2030c-5325-438b-cbc2-d958368a34e5"
      },
      "outputs": [],
      "source": [
        "restricted_dataset = test_dataset.filter(lambda example, idx: cls_prediction[idx] == 1, with_indices=True)\n",
        "\n",
        "restricted_dataset = restricted_dataset.remove_columns(\"label\")\n",
        "\n",
        "restricted_dataset"
      ]
    },
    {
      "cell_type": "code",
      "execution_count": null,
      "metadata": {
        "colab": {
          "base_uri": "https://localhost:8080/"
        },
        "id": "oR80VxrMUiYh",
        "outputId": "ab30e2a4-7dbd-4c18-c2cc-0b8a7edba7f5"
      },
      "outputs": [],
      "source": [
        "from transformers import AutoTokenizer\n",
        "\n",
        "restricted_tokenizer = AutoTokenizer.from_pretrained(\"t5-base\")"
      ]
    },
    {
      "cell_type": "code",
      "execution_count": null,
      "metadata": {
        "id": "ZKbVg6svUiYi"
      },
      "outputs": [],
      "source": [
        "source_lang = \"en\"\n",
        "target_lang = \"ltl\"\n",
        "prefix = \"translate English to LTL: \"\n",
        "\n",
        "\n",
        "def preprocess_function(examples):\n",
        "    inputs = [prefix + example.replace(',', ' ,') for example in examples[source_lang]]\n",
        "    targets = [example for example in examples[target_lang]]\n",
        "    model_inputs = restricted_tokenizer(inputs, max_length=256, truncation=True)\n",
        "\n",
        "    with restricted_tokenizer.as_target_tokenizer():\n",
        "        labels = restricted_tokenizer(targets, max_length=256, truncation=True)\n",
        "\n",
        "    model_inputs[\"labels\"] = labels[\"input_ids\"]\n",
        "    return model_inputs"
      ]
    },
    {
      "cell_type": "code",
      "execution_count": null,
      "metadata": {
        "colab": {
          "base_uri": "https://localhost:8080/",
          "height": 104,
          "referenced_widgets": [
            "ee15085293c541e486b5c359b8f6fc55",
            "026ef66cedd94cec99218ce73545a5a6",
            "04e6355162df4adc949e13fcd6a6c69f",
            "8c551bb44c6e4315a284f116edfe9eef",
            "8b50b66221de42d185a1272839df48b0",
            "a56c2930643841f3a9506ba5fa56a596",
            "3ae39c9a3f38444b9044278df2601d31",
            "588e33034d69428781651ef59822656c",
            "df5939b1b9b34b3bbae630baf928f470",
            "fa27041805ef442585fe028f65768fc3",
            "4ccbc78b9a924aaa8de540ad83f44f8b"
          ]
        },
        "id": "Q2YpcAsMUiYi",
        "outputId": "6f3be8ac-18bc-4bef-a21b-5983a2c0f972"
      },
      "outputs": [],
      "source": [
        "restricted_tokenized_dataset = restricted_dataset.map(preprocess_function, batched=True)"
      ]
    },
    {
      "cell_type": "code",
      "execution_count": null,
      "metadata": {
        "colab": {
          "base_uri": "https://localhost:8080/"
        },
        "id": "DI1t5b4LUiYj",
        "outputId": "dbbcb248-9637-4eae-b165-bc63dc31166c"
      },
      "outputs": [],
      "source": [
        "restricted_tokenized_dataset"
      ]
    },
    {
      "cell_type": "code",
      "execution_count": null,
      "metadata": {
        "colab": {
          "base_uri": "https://localhost:8080/"
        },
        "id": "5KQEzM4VUiYj",
        "outputId": "3fb6039b-b041-4a0d-9cff-63782650dce6"
      },
      "outputs": [],
      "source": [
        "restricted_tokenized_dataset['en'][:10]"
      ]
    },
    {
      "cell_type": "code",
      "execution_count": null,
      "metadata": {
        "colab": {
          "base_uri": "https://localhost:8080/"
        },
        "id": "WI2UEnGCUiYj",
        "outputId": "eda42abf-c111-4073-da0d-d06f038ab9c0"
      },
      "outputs": [],
      "source": [
        "from transformers import AutoModelForSeq2SeqLM, Seq2SeqTrainingArguments, Seq2SeqTrainer\n",
        "\n",
        "restricted_model = AutoModelForSeq2SeqLM.from_pretrained(RESTRICTED_CHECKPOINT)\n",
        "\n",
        "restricted_model.resize_token_embeddings(len(restricted_tokenizer))"
      ]
    },
    {
      "cell_type": "code",
      "execution_count": null,
      "metadata": {
        "colab": {
          "base_uri": "https://localhost:8080/"
        },
        "id": "nyASoD4IUiYk",
        "outputId": "029164f1-dcc8-4d64-c395-40538a698386"
      },
      "outputs": [],
      "source": [
        "print(\"For T5:\")\n",
        "print(\"Tokenizer vocab_size: {}\".format(restricted_tokenizer.vocab_size))\n",
        "print(\"Model vocab size: {}\\n\".format(restricted_model.config.vocab_size))"
      ]
    },
    {
      "cell_type": "code",
      "execution_count": null,
      "metadata": {
        "id": "U4HyWDi4UiYk"
      },
      "outputs": [],
      "source": [
        "from transformers import DataCollatorForSeq2Seq\n",
        "\n",
        "restricted_data_collator = DataCollatorForSeq2Seq(tokenizer=restricted_tokenizer, model=restricted_model)"
      ]
    },
    {
      "cell_type": "code",
      "execution_count": null,
      "metadata": {
        "colab": {
          "base_uri": "https://localhost:8080/"
        },
        "id": "2Q-n7oWSUiYk",
        "outputId": "11756ac8-55f9-4add-a5a4-5e8c4b9198ee"
      },
      "outputs": [],
      "source": [
        "restricted_training_args = Seq2SeqTrainingArguments(\n",
        "    output_dir=RESULTS_DIR,\n",
        "    evaluation_strategy=\"epoch\",\n",
        "    learning_rate=0.0001,\n",
        "    per_device_train_batch_size=16,\n",
        "    per_device_eval_batch_size=16,\n",
        "    weight_decay=0.01,\n",
        "    save_total_limit=1,\n",
        "    num_train_epochs=1,\n",
        "    adam_beta2=0.98,\n",
        "    warmup_steps=2500,\n",
        "    optim=\"adamw_torch\",\n",
        "    fp16=True,\n",
        "    predict_with_generate=True,\n",
        "    generation_max_length=256,\n",
        "    save_strategy='epoch'\n",
        ")"
      ]
    },
    {
      "cell_type": "code",
      "execution_count": null,
      "metadata": {
        "id": "-Sms1m_TUiYl"
      },
      "outputs": [],
      "source": [
        "def postprocess_text(preds, labels):\n",
        "    preds = [pred.strip() for pred in preds]\n",
        "    labels = [[label.strip()] for label in labels]\n",
        "    return preds, labels\n",
        "\n",
        "def compute_metrics(eval_preds):\n",
        "    preds, labels = eval_preds\n",
        "    if isinstance(preds, tuple):\n",
        "        preds = preds[0]\n",
        "    decoded_preds = restricted_tokenizer.batch_decode(preds, skip_special_tokens=True)\n",
        "    # Replace -100 in the labels as we can't decode them.\n",
        "    labels = np.where(labels != -100, labels, restricted_tokenizer.pad_token_id)\n",
        "    decoded_labels = restricted_tokenizer.batch_decode(labels, skip_special_tokens=True)\n",
        "    # Some simple post-processing\n",
        "    decoded_preds, decoded_labels = postprocess_text(decoded_preds, decoded_labels)\n",
        "    result = sacrebleu.compute(predictions=decoded_preds, references=decoded_labels)\n",
        "    result = {\"bleu\": result[\"score\"]}\n",
        "    prediction_lens = [np.count_nonzero(pred != restricted_tokenizer.pad_token_id) for pred in preds]\n",
        "    result[\"gen_len\"] = np.mean(prediction_lens)\n",
        "    result = {k: round(v, 4) for k, v in result.items()}\n",
        "    result['preds'] = decoded_preds\n",
        "    result['lbls'] = decoded_labels\n",
        "    return result"
      ]
    },
    {
      "cell_type": "code",
      "execution_count": null,
      "metadata": {
        "colab": {
          "base_uri": "https://localhost:8080/"
        },
        "id": "L7UGWo_NUiYl",
        "outputId": "76ba306a-86b6-4677-b97d-79121e1b86da"
      },
      "outputs": [],
      "source": [
        "restricted_trainer = Seq2SeqTrainer(\n",
        "    model=restricted_model,\n",
        "    args=restricted_training_args,\n",
        "    train_dataset=restricted_tokenized_dataset,\n",
        "    eval_dataset=restricted_tokenized_dataset,\n",
        "    tokenizer=restricted_tokenizer,\n",
        "    data_collator=restricted_data_collator,\n",
        "    compute_metrics=compute_metrics,\n",
        ")\n",
        "\n",
        "# trainer.train(\"/content/gdrive/MyDrive/final_thesis_experiments/checkpoint-5625/\")\n",
        "# trainer.train()"
      ]
    },
    {
      "cell_type": "code",
      "execution_count": null,
      "metadata": {
        "colab": {
          "base_uri": "https://localhost:8080/",
          "height": 1000
        },
        "id": "sjuMLjoTUiYm",
        "outputId": "da14bd04-2bd0-4715-ced5-18efc7ea2299"
      },
      "outputs": [],
      "source": [
        "restricted_results = restricted_trainer.evaluate(restricted_tokenized_dataset, max_length=256)\n",
        "\n",
        "restricted_results"
      ]
    },
    {
      "cell_type": "code",
      "execution_count": null,
      "metadata": {
        "colab": {
          "base_uri": "https://localhost:8080/"
        },
        "id": "McU_ycS-9kJl",
        "outputId": "fcc46a18-4b3d-409e-aaf1-b25ddf16742c"
      },
      "outputs": [],
      "source": [
        "restricted_results = {\n",
        "    'preds': restricted_results['eval_preds'],\n",
        "    'labels': restricted_results['eval_lbls']\n",
        "    }\n",
        "\n",
        "restricted_results"
      ]
    },
    {
      "cell_type": "markdown",
      "metadata": {
        "id": "5oJNnvjs9yyQ"
      },
      "source": [
        "## Final Results Evaluation"
      ]
    },
    {
      "cell_type": "code",
      "execution_count": null,
      "metadata": {
        "colab": {
          "base_uri": "https://localhost:8080/"
        },
        "id": "6v3qoo1P92Ke",
        "outputId": "8d1f47e6-7383-4805-da4c-dc7d1eaee54b"
      },
      "outputs": [],
      "source": [
        "final_labels = unrestricted_results['labels'] + restricted_results['labels']\n",
        "final_preds = unrestricted_results['preds'] + restricted_results['preds']\n",
        "\n",
        "len(final_labels), len(final_preds)"
      ]
    },
    {
      "cell_type": "code",
      "execution_count": null,
      "metadata": {
        "colab": {
          "base_uri": "https://localhost:8080/"
        },
        "id": "bKhf_CzcVyVA",
        "outputId": "76e67fac-1d03-45b9-cec9-4cee2f5aa2a9"
      },
      "outputs": [],
      "source": [
        "sacrebleu.compute(predictions=final_preds, references=final_labels)"
      ]
    }
  ],
  "metadata": {
    "accelerator": "GPU",
    "colab": {
      "provenance": []
    },
    "gpuClass": "standard",
    "kernelspec": {
      "display_name": "Python 3",
      "name": "python3"
    },
    "language_info": {
      "name": "python"
    },
    "widgets": {
      "application/vnd.jupyter.widget-state+json": {
        "00330bcddb624679a97abc951e39ab7d": {
          "model_module": "@jupyter-widgets/controls",
          "model_module_version": "1.5.0",
          "model_name": "FloatProgressModel",
          "state": {
            "_dom_classes": [],
            "_model_module": "@jupyter-widgets/controls",
            "_model_module_version": "1.5.0",
            "_model_name": "FloatProgressModel",
            "_view_count": null,
            "_view_module": "@jupyter-widgets/controls",
            "_view_module_version": "1.5.0",
            "_view_name": "ProgressView",
            "bar_style": "success",
            "description": "",
            "description_tooltip": null,
            "layout": "IPY_MODEL_da4af903ae1d40518571ffb6f8a6d903",
            "max": 15,
            "min": 0,
            "orientation": "horizontal",
            "style": "IPY_MODEL_42de86fa10484ecaab0b13e1f65cb5ee",
            "value": 15
          }
        },
        "026ef66cedd94cec99218ce73545a5a6": {
          "model_module": "@jupyter-widgets/controls",
          "model_module_version": "1.5.0",
          "model_name": "HTMLModel",
          "state": {
            "_dom_classes": [],
            "_model_module": "@jupyter-widgets/controls",
            "_model_module_version": "1.5.0",
            "_model_name": "HTMLModel",
            "_view_count": null,
            "_view_module": "@jupyter-widgets/controls",
            "_view_module_version": "1.5.0",
            "_view_name": "HTMLView",
            "description": "",
            "description_tooltip": null,
            "layout": "IPY_MODEL_a56c2930643841f3a9506ba5fa56a596",
            "placeholder": "​",
            "style": "IPY_MODEL_3ae39c9a3f38444b9044278df2601d31",
            "value": "100%"
          }
        },
        "04e6355162df4adc949e13fcd6a6c69f": {
          "model_module": "@jupyter-widgets/controls",
          "model_module_version": "1.5.0",
          "model_name": "FloatProgressModel",
          "state": {
            "_dom_classes": [],
            "_model_module": "@jupyter-widgets/controls",
            "_model_module_version": "1.5.0",
            "_model_name": "FloatProgressModel",
            "_view_count": null,
            "_view_module": "@jupyter-widgets/controls",
            "_view_module_version": "1.5.0",
            "_view_name": "ProgressView",
            "bar_style": "success",
            "description": "",
            "description_tooltip": null,
            "layout": "IPY_MODEL_588e33034d69428781651ef59822656c",
            "max": 8,
            "min": 0,
            "orientation": "horizontal",
            "style": "IPY_MODEL_df5939b1b9b34b3bbae630baf928f470",
            "value": 8
          }
        },
        "04ee9877b2634588935137907d93723b": {
          "model_module": "@jupyter-widgets/base",
          "model_module_version": "1.2.0",
          "model_name": "LayoutModel",
          "state": {
            "_model_module": "@jupyter-widgets/base",
            "_model_module_version": "1.2.0",
            "_model_name": "LayoutModel",
            "_view_count": null,
            "_view_module": "@jupyter-widgets/base",
            "_view_module_version": "1.2.0",
            "_view_name": "LayoutView",
            "align_content": null,
            "align_items": null,
            "align_self": null,
            "border": null,
            "bottom": null,
            "display": null,
            "flex": null,
            "flex_flow": null,
            "grid_area": null,
            "grid_auto_columns": null,
            "grid_auto_flow": null,
            "grid_auto_rows": null,
            "grid_column": null,
            "grid_gap": null,
            "grid_row": null,
            "grid_template_areas": null,
            "grid_template_columns": null,
            "grid_template_rows": null,
            "height": null,
            "justify_content": null,
            "justify_items": null,
            "left": null,
            "margin": null,
            "max_height": null,
            "max_width": null,
            "min_height": null,
            "min_width": null,
            "object_fit": null,
            "object_position": null,
            "order": null,
            "overflow": null,
            "overflow_x": null,
            "overflow_y": null,
            "padding": null,
            "right": null,
            "top": null,
            "visibility": null,
            "width": null
          }
        },
        "10d273e665e34713b50a619531405ac4": {
          "model_module": "@jupyter-widgets/base",
          "model_module_version": "1.2.0",
          "model_name": "LayoutModel",
          "state": {
            "_model_module": "@jupyter-widgets/base",
            "_model_module_version": "1.2.0",
            "_model_name": "LayoutModel",
            "_view_count": null,
            "_view_module": "@jupyter-widgets/base",
            "_view_module_version": "1.2.0",
            "_view_name": "LayoutView",
            "align_content": null,
            "align_items": null,
            "align_self": null,
            "border": null,
            "bottom": null,
            "display": null,
            "flex": null,
            "flex_flow": null,
            "grid_area": null,
            "grid_auto_columns": null,
            "grid_auto_flow": null,
            "grid_auto_rows": null,
            "grid_column": null,
            "grid_gap": null,
            "grid_row": null,
            "grid_template_areas": null,
            "grid_template_columns": null,
            "grid_template_rows": null,
            "height": null,
            "justify_content": null,
            "justify_items": null,
            "left": null,
            "margin": null,
            "max_height": null,
            "max_width": null,
            "min_height": null,
            "min_width": null,
            "object_fit": null,
            "object_position": null,
            "order": null,
            "overflow": null,
            "overflow_x": null,
            "overflow_y": null,
            "padding": null,
            "right": null,
            "top": null,
            "visibility": null,
            "width": null
          }
        },
        "14537b2cfe3847aa98de2f7b3ebe3b1b": {
          "model_module": "@jupyter-widgets/controls",
          "model_module_version": "1.5.0",
          "model_name": "HBoxModel",
          "state": {
            "_dom_classes": [],
            "_model_module": "@jupyter-widgets/controls",
            "_model_module_version": "1.5.0",
            "_model_name": "HBoxModel",
            "_view_count": null,
            "_view_module": "@jupyter-widgets/controls",
            "_view_module_version": "1.5.0",
            "_view_name": "HBoxView",
            "box_style": "",
            "children": [
              "IPY_MODEL_52e80ef969f24199be97287ca8cf2835",
              "IPY_MODEL_1a808fe0a51842eea3752e1eb41ef903",
              "IPY_MODEL_cefd98f7bd4a448e9036562a0f277dc6"
            ],
            "layout": "IPY_MODEL_83a8b3c0136c4816b497d190cd5fa74d"
          }
        },
        "1a808fe0a51842eea3752e1eb41ef903": {
          "model_module": "@jupyter-widgets/controls",
          "model_module_version": "1.5.0",
          "model_name": "FloatProgressModel",
          "state": {
            "_dom_classes": [],
            "_model_module": "@jupyter-widgets/controls",
            "_model_module_version": "1.5.0",
            "_model_name": "FloatProgressModel",
            "_view_count": null,
            "_view_module": "@jupyter-widgets/controls",
            "_view_module_version": "1.5.0",
            "_view_name": "ProgressView",
            "bar_style": "success",
            "description": "",
            "description_tooltip": null,
            "layout": "IPY_MODEL_547301986855440689cca0bdeb857431",
            "max": 1,
            "min": 0,
            "orientation": "horizontal",
            "style": "IPY_MODEL_45881d5d408849e5808d4e8c8df775d7",
            "value": 1
          }
        },
        "20d61d0b42ce45cbac8097eb748486b5": {
          "model_module": "@jupyter-widgets/base",
          "model_module_version": "1.2.0",
          "model_name": "LayoutModel",
          "state": {
            "_model_module": "@jupyter-widgets/base",
            "_model_module_version": "1.2.0",
            "_model_name": "LayoutModel",
            "_view_count": null,
            "_view_module": "@jupyter-widgets/base",
            "_view_module_version": "1.2.0",
            "_view_name": "LayoutView",
            "align_content": null,
            "align_items": null,
            "align_self": null,
            "border": null,
            "bottom": null,
            "display": null,
            "flex": null,
            "flex_flow": null,
            "grid_area": null,
            "grid_auto_columns": null,
            "grid_auto_flow": null,
            "grid_auto_rows": null,
            "grid_column": null,
            "grid_gap": null,
            "grid_row": null,
            "grid_template_areas": null,
            "grid_template_columns": null,
            "grid_template_rows": null,
            "height": null,
            "justify_content": null,
            "justify_items": null,
            "left": null,
            "margin": null,
            "max_height": null,
            "max_width": null,
            "min_height": null,
            "min_width": null,
            "object_fit": null,
            "object_position": null,
            "order": null,
            "overflow": null,
            "overflow_x": null,
            "overflow_y": null,
            "padding": null,
            "right": null,
            "top": null,
            "visibility": null,
            "width": null
          }
        },
        "31525b3bc06b4d9bb5e268973711ead1": {
          "model_module": "@jupyter-widgets/controls",
          "model_module_version": "1.5.0",
          "model_name": "DescriptionStyleModel",
          "state": {
            "_model_module": "@jupyter-widgets/controls",
            "_model_module_version": "1.5.0",
            "_model_name": "DescriptionStyleModel",
            "_view_count": null,
            "_view_module": "@jupyter-widgets/base",
            "_view_module_version": "1.2.0",
            "_view_name": "StyleView",
            "description_width": ""
          }
        },
        "3ae39c9a3f38444b9044278df2601d31": {
          "model_module": "@jupyter-widgets/controls",
          "model_module_version": "1.5.0",
          "model_name": "DescriptionStyleModel",
          "state": {
            "_model_module": "@jupyter-widgets/controls",
            "_model_module_version": "1.5.0",
            "_model_name": "DescriptionStyleModel",
            "_view_count": null,
            "_view_module": "@jupyter-widgets/base",
            "_view_module_version": "1.2.0",
            "_view_name": "StyleView",
            "description_width": ""
          }
        },
        "4021476a85384c8599fd98ab81c5f549": {
          "model_module": "@jupyter-widgets/controls",
          "model_module_version": "1.5.0",
          "model_name": "HTMLModel",
          "state": {
            "_dom_classes": [],
            "_model_module": "@jupyter-widgets/controls",
            "_model_module_version": "1.5.0",
            "_model_name": "HTMLModel",
            "_view_count": null,
            "_view_module": "@jupyter-widgets/controls",
            "_view_module_version": "1.5.0",
            "_view_name": "HTMLView",
            "description": "",
            "description_tooltip": null,
            "layout": "IPY_MODEL_04ee9877b2634588935137907d93723b",
            "placeholder": "​",
            "style": "IPY_MODEL_c89dc458d16e42fa960d65ad0569a6f9",
            "value": " 15/15 [00:00&lt;00:00, 31.20ba/s]"
          }
        },
        "42de86fa10484ecaab0b13e1f65cb5ee": {
          "model_module": "@jupyter-widgets/controls",
          "model_module_version": "1.5.0",
          "model_name": "ProgressStyleModel",
          "state": {
            "_model_module": "@jupyter-widgets/controls",
            "_model_module_version": "1.5.0",
            "_model_name": "ProgressStyleModel",
            "_view_count": null,
            "_view_module": "@jupyter-widgets/base",
            "_view_module_version": "1.2.0",
            "_view_name": "StyleView",
            "bar_color": null,
            "description_width": ""
          }
        },
        "45881d5d408849e5808d4e8c8df775d7": {
          "model_module": "@jupyter-widgets/controls",
          "model_module_version": "1.5.0",
          "model_name": "ProgressStyleModel",
          "state": {
            "_model_module": "@jupyter-widgets/controls",
            "_model_module_version": "1.5.0",
            "_model_name": "ProgressStyleModel",
            "_view_count": null,
            "_view_module": "@jupyter-widgets/base",
            "_view_module_version": "1.2.0",
            "_view_name": "StyleView",
            "bar_color": null,
            "description_width": ""
          }
        },
        "4ccbc78b9a924aaa8de540ad83f44f8b": {
          "model_module": "@jupyter-widgets/controls",
          "model_module_version": "1.5.0",
          "model_name": "DescriptionStyleModel",
          "state": {
            "_model_module": "@jupyter-widgets/controls",
            "_model_module_version": "1.5.0",
            "_model_name": "DescriptionStyleModel",
            "_view_count": null,
            "_view_module": "@jupyter-widgets/base",
            "_view_module_version": "1.2.0",
            "_view_name": "StyleView",
            "description_width": ""
          }
        },
        "52e80ef969f24199be97287ca8cf2835": {
          "model_module": "@jupyter-widgets/controls",
          "model_module_version": "1.5.0",
          "model_name": "HTMLModel",
          "state": {
            "_dom_classes": [],
            "_model_module": "@jupyter-widgets/controls",
            "_model_module_version": "1.5.0",
            "_model_name": "HTMLModel",
            "_view_count": null,
            "_view_module": "@jupyter-widgets/controls",
            "_view_module_version": "1.5.0",
            "_view_name": "HTMLView",
            "description": "",
            "description_tooltip": null,
            "layout": "IPY_MODEL_6106c5fdb3a541af8f2a913d90848c00",
            "placeholder": "​",
            "style": "IPY_MODEL_bbf27e699a0840dc95b940442d22eea1",
            "value": "100%"
          }
        },
        "547301986855440689cca0bdeb857431": {
          "model_module": "@jupyter-widgets/base",
          "model_module_version": "1.2.0",
          "model_name": "LayoutModel",
          "state": {
            "_model_module": "@jupyter-widgets/base",
            "_model_module_version": "1.2.0",
            "_model_name": "LayoutModel",
            "_view_count": null,
            "_view_module": "@jupyter-widgets/base",
            "_view_module_version": "1.2.0",
            "_view_name": "LayoutView",
            "align_content": null,
            "align_items": null,
            "align_self": null,
            "border": null,
            "bottom": null,
            "display": null,
            "flex": null,
            "flex_flow": null,
            "grid_area": null,
            "grid_auto_columns": null,
            "grid_auto_flow": null,
            "grid_auto_rows": null,
            "grid_column": null,
            "grid_gap": null,
            "grid_row": null,
            "grid_template_areas": null,
            "grid_template_columns": null,
            "grid_template_rows": null,
            "height": null,
            "justify_content": null,
            "justify_items": null,
            "left": null,
            "margin": null,
            "max_height": null,
            "max_width": null,
            "min_height": null,
            "min_width": null,
            "object_fit": null,
            "object_position": null,
            "order": null,
            "overflow": null,
            "overflow_x": null,
            "overflow_y": null,
            "padding": null,
            "right": null,
            "top": null,
            "visibility": null,
            "width": null
          }
        },
        "5742b3e4df00424dbb71c70099148a45": {
          "model_module": "@jupyter-widgets/controls",
          "model_module_version": "1.5.0",
          "model_name": "DescriptionStyleModel",
          "state": {
            "_model_module": "@jupyter-widgets/controls",
            "_model_module_version": "1.5.0",
            "_model_name": "DescriptionStyleModel",
            "_view_count": null,
            "_view_module": "@jupyter-widgets/base",
            "_view_module_version": "1.2.0",
            "_view_name": "StyleView",
            "description_width": ""
          }
        },
        "588e33034d69428781651ef59822656c": {
          "model_module": "@jupyter-widgets/base",
          "model_module_version": "1.2.0",
          "model_name": "LayoutModel",
          "state": {
            "_model_module": "@jupyter-widgets/base",
            "_model_module_version": "1.2.0",
            "_model_name": "LayoutModel",
            "_view_count": null,
            "_view_module": "@jupyter-widgets/base",
            "_view_module_version": "1.2.0",
            "_view_name": "LayoutView",
            "align_content": null,
            "align_items": null,
            "align_self": null,
            "border": null,
            "bottom": null,
            "display": null,
            "flex": null,
            "flex_flow": null,
            "grid_area": null,
            "grid_auto_columns": null,
            "grid_auto_flow": null,
            "grid_auto_rows": null,
            "grid_column": null,
            "grid_gap": null,
            "grid_row": null,
            "grid_template_areas": null,
            "grid_template_columns": null,
            "grid_template_rows": null,
            "height": null,
            "justify_content": null,
            "justify_items": null,
            "left": null,
            "margin": null,
            "max_height": null,
            "max_width": null,
            "min_height": null,
            "min_width": null,
            "object_fit": null,
            "object_position": null,
            "order": null,
            "overflow": null,
            "overflow_x": null,
            "overflow_y": null,
            "padding": null,
            "right": null,
            "top": null,
            "visibility": null,
            "width": null
          }
        },
        "6106c5fdb3a541af8f2a913d90848c00": {
          "model_module": "@jupyter-widgets/base",
          "model_module_version": "1.2.0",
          "model_name": "LayoutModel",
          "state": {
            "_model_module": "@jupyter-widgets/base",
            "_model_module_version": "1.2.0",
            "_model_name": "LayoutModel",
            "_view_count": null,
            "_view_module": "@jupyter-widgets/base",
            "_view_module_version": "1.2.0",
            "_view_name": "LayoutView",
            "align_content": null,
            "align_items": null,
            "align_self": null,
            "border": null,
            "bottom": null,
            "display": null,
            "flex": null,
            "flex_flow": null,
            "grid_area": null,
            "grid_auto_columns": null,
            "grid_auto_flow": null,
            "grid_auto_rows": null,
            "grid_column": null,
            "grid_gap": null,
            "grid_row": null,
            "grid_template_areas": null,
            "grid_template_columns": null,
            "grid_template_rows": null,
            "height": null,
            "justify_content": null,
            "justify_items": null,
            "left": null,
            "margin": null,
            "max_height": null,
            "max_width": null,
            "min_height": null,
            "min_width": null,
            "object_fit": null,
            "object_position": null,
            "order": null,
            "overflow": null,
            "overflow_x": null,
            "overflow_y": null,
            "padding": null,
            "right": null,
            "top": null,
            "visibility": null,
            "width": null
          }
        },
        "7ee85ac0d96145c3a8248a89c6d20cba": {
          "model_module": "@jupyter-widgets/controls",
          "model_module_version": "1.5.0",
          "model_name": "DescriptionStyleModel",
          "state": {
            "_model_module": "@jupyter-widgets/controls",
            "_model_module_version": "1.5.0",
            "_model_name": "DescriptionStyleModel",
            "_view_count": null,
            "_view_module": "@jupyter-widgets/base",
            "_view_module_version": "1.2.0",
            "_view_name": "StyleView",
            "description_width": ""
          }
        },
        "7f1bfc6f66b44989b2bd7ed40d4f36f7": {
          "model_module": "@jupyter-widgets/controls",
          "model_module_version": "1.5.0",
          "model_name": "HTMLModel",
          "state": {
            "_dom_classes": [],
            "_model_module": "@jupyter-widgets/controls",
            "_model_module_version": "1.5.0",
            "_model_name": "HTMLModel",
            "_view_count": null,
            "_view_module": "@jupyter-widgets/controls",
            "_view_module_version": "1.5.0",
            "_view_name": "HTMLView",
            "description": "",
            "description_tooltip": null,
            "layout": "IPY_MODEL_a0a48a59cb844765bd6b406bf2c06b86",
            "placeholder": "​",
            "style": "IPY_MODEL_7ee85ac0d96145c3a8248a89c6d20cba",
            "value": "100%"
          }
        },
        "811b9ebcc0084c1c9380dd67ce38982c": {
          "model_module": "@jupyter-widgets/base",
          "model_module_version": "1.2.0",
          "model_name": "LayoutModel",
          "state": {
            "_model_module": "@jupyter-widgets/base",
            "_model_module_version": "1.2.0",
            "_model_name": "LayoutModel",
            "_view_count": null,
            "_view_module": "@jupyter-widgets/base",
            "_view_module_version": "1.2.0",
            "_view_name": "LayoutView",
            "align_content": null,
            "align_items": null,
            "align_self": null,
            "border": null,
            "bottom": null,
            "display": null,
            "flex": null,
            "flex_flow": null,
            "grid_area": null,
            "grid_auto_columns": null,
            "grid_auto_flow": null,
            "grid_auto_rows": null,
            "grid_column": null,
            "grid_gap": null,
            "grid_row": null,
            "grid_template_areas": null,
            "grid_template_columns": null,
            "grid_template_rows": null,
            "height": null,
            "justify_content": null,
            "justify_items": null,
            "left": null,
            "margin": null,
            "max_height": null,
            "max_width": null,
            "min_height": null,
            "min_width": null,
            "object_fit": null,
            "object_position": null,
            "order": null,
            "overflow": null,
            "overflow_x": null,
            "overflow_y": null,
            "padding": null,
            "right": null,
            "top": null,
            "visibility": null,
            "width": null
          }
        },
        "83a8b3c0136c4816b497d190cd5fa74d": {
          "model_module": "@jupyter-widgets/base",
          "model_module_version": "1.2.0",
          "model_name": "LayoutModel",
          "state": {
            "_model_module": "@jupyter-widgets/base",
            "_model_module_version": "1.2.0",
            "_model_name": "LayoutModel",
            "_view_count": null,
            "_view_module": "@jupyter-widgets/base",
            "_view_module_version": "1.2.0",
            "_view_name": "LayoutView",
            "align_content": null,
            "align_items": null,
            "align_self": null,
            "border": null,
            "bottom": null,
            "display": null,
            "flex": null,
            "flex_flow": null,
            "grid_area": null,
            "grid_auto_columns": null,
            "grid_auto_flow": null,
            "grid_auto_rows": null,
            "grid_column": null,
            "grid_gap": null,
            "grid_row": null,
            "grid_template_areas": null,
            "grid_template_columns": null,
            "grid_template_rows": null,
            "height": null,
            "justify_content": null,
            "justify_items": null,
            "left": null,
            "margin": null,
            "max_height": null,
            "max_width": null,
            "min_height": null,
            "min_width": null,
            "object_fit": null,
            "object_position": null,
            "order": null,
            "overflow": null,
            "overflow_x": null,
            "overflow_y": null,
            "padding": null,
            "right": null,
            "top": null,
            "visibility": null,
            "width": null
          }
        },
        "84d5d5d3685f4b2db6e2e2a388440c8c": {
          "model_module": "@jupyter-widgets/controls",
          "model_module_version": "1.5.0",
          "model_name": "FloatProgressModel",
          "state": {
            "_dom_classes": [],
            "_model_module": "@jupyter-widgets/controls",
            "_model_module_version": "1.5.0",
            "_model_name": "FloatProgressModel",
            "_view_count": null,
            "_view_module": "@jupyter-widgets/controls",
            "_view_module_version": "1.5.0",
            "_view_name": "ProgressView",
            "bar_style": "success",
            "description": "",
            "description_tooltip": null,
            "layout": "IPY_MODEL_b7cccb6e6fb843beb492565a267bd2cc",
            "max": 1,
            "min": 0,
            "orientation": "horizontal",
            "style": "IPY_MODEL_a60ba6beb01a4091a9af66c054a8330d",
            "value": 1
          }
        },
        "8b50b66221de42d185a1272839df48b0": {
          "model_module": "@jupyter-widgets/base",
          "model_module_version": "1.2.0",
          "model_name": "LayoutModel",
          "state": {
            "_model_module": "@jupyter-widgets/base",
            "_model_module_version": "1.2.0",
            "_model_name": "LayoutModel",
            "_view_count": null,
            "_view_module": "@jupyter-widgets/base",
            "_view_module_version": "1.2.0",
            "_view_name": "LayoutView",
            "align_content": null,
            "align_items": null,
            "align_self": null,
            "border": null,
            "bottom": null,
            "display": null,
            "flex": null,
            "flex_flow": null,
            "grid_area": null,
            "grid_auto_columns": null,
            "grid_auto_flow": null,
            "grid_auto_rows": null,
            "grid_column": null,
            "grid_gap": null,
            "grid_row": null,
            "grid_template_areas": null,
            "grid_template_columns": null,
            "grid_template_rows": null,
            "height": null,
            "justify_content": null,
            "justify_items": null,
            "left": null,
            "margin": null,
            "max_height": null,
            "max_width": null,
            "min_height": null,
            "min_width": null,
            "object_fit": null,
            "object_position": null,
            "order": null,
            "overflow": null,
            "overflow_x": null,
            "overflow_y": null,
            "padding": null,
            "right": null,
            "top": null,
            "visibility": null,
            "width": null
          }
        },
        "8c551bb44c6e4315a284f116edfe9eef": {
          "model_module": "@jupyter-widgets/controls",
          "model_module_version": "1.5.0",
          "model_name": "HTMLModel",
          "state": {
            "_dom_classes": [],
            "_model_module": "@jupyter-widgets/controls",
            "_model_module_version": "1.5.0",
            "_model_name": "HTMLModel",
            "_view_count": null,
            "_view_module": "@jupyter-widgets/controls",
            "_view_module_version": "1.5.0",
            "_view_name": "HTMLView",
            "description": "",
            "description_tooltip": null,
            "layout": "IPY_MODEL_fa27041805ef442585fe028f65768fc3",
            "placeholder": "​",
            "style": "IPY_MODEL_4ccbc78b9a924aaa8de540ad83f44f8b",
            "value": " 8/8 [00:02&lt;00:00,  3.82ba/s]"
          }
        },
        "98946d6467f2439da819d387e4e19b7f": {
          "model_module": "@jupyter-widgets/controls",
          "model_module_version": "1.5.0",
          "model_name": "HBoxModel",
          "state": {
            "_dom_classes": [],
            "_model_module": "@jupyter-widgets/controls",
            "_model_module_version": "1.5.0",
            "_model_name": "HBoxModel",
            "_view_count": null,
            "_view_module": "@jupyter-widgets/controls",
            "_view_module_version": "1.5.0",
            "_view_name": "HBoxView",
            "box_style": "",
            "children": [
              "IPY_MODEL_7f1bfc6f66b44989b2bd7ed40d4f36f7",
              "IPY_MODEL_84d5d5d3685f4b2db6e2e2a388440c8c",
              "IPY_MODEL_e80da1ba82e340b28d344ff1008f661a"
            ],
            "layout": "IPY_MODEL_10d273e665e34713b50a619531405ac4"
          }
        },
        "a0a48a59cb844765bd6b406bf2c06b86": {
          "model_module": "@jupyter-widgets/base",
          "model_module_version": "1.2.0",
          "model_name": "LayoutModel",
          "state": {
            "_model_module": "@jupyter-widgets/base",
            "_model_module_version": "1.2.0",
            "_model_name": "LayoutModel",
            "_view_count": null,
            "_view_module": "@jupyter-widgets/base",
            "_view_module_version": "1.2.0",
            "_view_name": "LayoutView",
            "align_content": null,
            "align_items": null,
            "align_self": null,
            "border": null,
            "bottom": null,
            "display": null,
            "flex": null,
            "flex_flow": null,
            "grid_area": null,
            "grid_auto_columns": null,
            "grid_auto_flow": null,
            "grid_auto_rows": null,
            "grid_column": null,
            "grid_gap": null,
            "grid_row": null,
            "grid_template_areas": null,
            "grid_template_columns": null,
            "grid_template_rows": null,
            "height": null,
            "justify_content": null,
            "justify_items": null,
            "left": null,
            "margin": null,
            "max_height": null,
            "max_width": null,
            "min_height": null,
            "min_width": null,
            "object_fit": null,
            "object_position": null,
            "order": null,
            "overflow": null,
            "overflow_x": null,
            "overflow_y": null,
            "padding": null,
            "right": null,
            "top": null,
            "visibility": null,
            "width": null
          }
        },
        "a56c2930643841f3a9506ba5fa56a596": {
          "model_module": "@jupyter-widgets/base",
          "model_module_version": "1.2.0",
          "model_name": "LayoutModel",
          "state": {
            "_model_module": "@jupyter-widgets/base",
            "_model_module_version": "1.2.0",
            "_model_name": "LayoutModel",
            "_view_count": null,
            "_view_module": "@jupyter-widgets/base",
            "_view_module_version": "1.2.0",
            "_view_name": "LayoutView",
            "align_content": null,
            "align_items": null,
            "align_self": null,
            "border": null,
            "bottom": null,
            "display": null,
            "flex": null,
            "flex_flow": null,
            "grid_area": null,
            "grid_auto_columns": null,
            "grid_auto_flow": null,
            "grid_auto_rows": null,
            "grid_column": null,
            "grid_gap": null,
            "grid_row": null,
            "grid_template_areas": null,
            "grid_template_columns": null,
            "grid_template_rows": null,
            "height": null,
            "justify_content": null,
            "justify_items": null,
            "left": null,
            "margin": null,
            "max_height": null,
            "max_width": null,
            "min_height": null,
            "min_width": null,
            "object_fit": null,
            "object_position": null,
            "order": null,
            "overflow": null,
            "overflow_x": null,
            "overflow_y": null,
            "padding": null,
            "right": null,
            "top": null,
            "visibility": null,
            "width": null
          }
        },
        "a60ba6beb01a4091a9af66c054a8330d": {
          "model_module": "@jupyter-widgets/controls",
          "model_module_version": "1.5.0",
          "model_name": "ProgressStyleModel",
          "state": {
            "_model_module": "@jupyter-widgets/controls",
            "_model_module_version": "1.5.0",
            "_model_name": "ProgressStyleModel",
            "_view_count": null,
            "_view_module": "@jupyter-widgets/base",
            "_view_module_version": "1.2.0",
            "_view_name": "StyleView",
            "bar_color": null,
            "description_width": ""
          }
        },
        "b7cccb6e6fb843beb492565a267bd2cc": {
          "model_module": "@jupyter-widgets/base",
          "model_module_version": "1.2.0",
          "model_name": "LayoutModel",
          "state": {
            "_model_module": "@jupyter-widgets/base",
            "_model_module_version": "1.2.0",
            "_model_name": "LayoutModel",
            "_view_count": null,
            "_view_module": "@jupyter-widgets/base",
            "_view_module_version": "1.2.0",
            "_view_name": "LayoutView",
            "align_content": null,
            "align_items": null,
            "align_self": null,
            "border": null,
            "bottom": null,
            "display": null,
            "flex": null,
            "flex_flow": null,
            "grid_area": null,
            "grid_auto_columns": null,
            "grid_auto_flow": null,
            "grid_auto_rows": null,
            "grid_column": null,
            "grid_gap": null,
            "grid_row": null,
            "grid_template_areas": null,
            "grid_template_columns": null,
            "grid_template_rows": null,
            "height": null,
            "justify_content": null,
            "justify_items": null,
            "left": null,
            "margin": null,
            "max_height": null,
            "max_width": null,
            "min_height": null,
            "min_width": null,
            "object_fit": null,
            "object_position": null,
            "order": null,
            "overflow": null,
            "overflow_x": null,
            "overflow_y": null,
            "padding": null,
            "right": null,
            "top": null,
            "visibility": null,
            "width": null
          }
        },
        "bbf27e699a0840dc95b940442d22eea1": {
          "model_module": "@jupyter-widgets/controls",
          "model_module_version": "1.5.0",
          "model_name": "DescriptionStyleModel",
          "state": {
            "_model_module": "@jupyter-widgets/controls",
            "_model_module_version": "1.5.0",
            "_model_name": "DescriptionStyleModel",
            "_view_count": null,
            "_view_module": "@jupyter-widgets/base",
            "_view_module_version": "1.2.0",
            "_view_name": "StyleView",
            "description_width": ""
          }
        },
        "c89dc458d16e42fa960d65ad0569a6f9": {
          "model_module": "@jupyter-widgets/controls",
          "model_module_version": "1.5.0",
          "model_name": "DescriptionStyleModel",
          "state": {
            "_model_module": "@jupyter-widgets/controls",
            "_model_module_version": "1.5.0",
            "_model_name": "DescriptionStyleModel",
            "_view_count": null,
            "_view_module": "@jupyter-widgets/base",
            "_view_module_version": "1.2.0",
            "_view_name": "StyleView",
            "description_width": ""
          }
        },
        "cefd98f7bd4a448e9036562a0f277dc6": {
          "model_module": "@jupyter-widgets/controls",
          "model_module_version": "1.5.0",
          "model_name": "HTMLModel",
          "state": {
            "_dom_classes": [],
            "_model_module": "@jupyter-widgets/controls",
            "_model_module_version": "1.5.0",
            "_model_name": "HTMLModel",
            "_view_count": null,
            "_view_module": "@jupyter-widgets/controls",
            "_view_module_version": "1.5.0",
            "_view_name": "HTMLView",
            "description": "",
            "description_tooltip": null,
            "layout": "IPY_MODEL_ff136d0dde6143dcac55d39f08547ce7",
            "placeholder": "​",
            "style": "IPY_MODEL_31525b3bc06b4d9bb5e268973711ead1",
            "value": " 1/1 [00:00&lt;00:00, 46.60it/s]"
          }
        },
        "d0b902dd2698413689fb9c63c2189b6e": {
          "model_module": "@jupyter-widgets/controls",
          "model_module_version": "1.5.0",
          "model_name": "DescriptionStyleModel",
          "state": {
            "_model_module": "@jupyter-widgets/controls",
            "_model_module_version": "1.5.0",
            "_model_name": "DescriptionStyleModel",
            "_view_count": null,
            "_view_module": "@jupyter-widgets/base",
            "_view_module_version": "1.2.0",
            "_view_name": "StyleView",
            "description_width": ""
          }
        },
        "da4af903ae1d40518571ffb6f8a6d903": {
          "model_module": "@jupyter-widgets/base",
          "model_module_version": "1.2.0",
          "model_name": "LayoutModel",
          "state": {
            "_model_module": "@jupyter-widgets/base",
            "_model_module_version": "1.2.0",
            "_model_name": "LayoutModel",
            "_view_count": null,
            "_view_module": "@jupyter-widgets/base",
            "_view_module_version": "1.2.0",
            "_view_name": "LayoutView",
            "align_content": null,
            "align_items": null,
            "align_self": null,
            "border": null,
            "bottom": null,
            "display": null,
            "flex": null,
            "flex_flow": null,
            "grid_area": null,
            "grid_auto_columns": null,
            "grid_auto_flow": null,
            "grid_auto_rows": null,
            "grid_column": null,
            "grid_gap": null,
            "grid_row": null,
            "grid_template_areas": null,
            "grid_template_columns": null,
            "grid_template_rows": null,
            "height": null,
            "justify_content": null,
            "justify_items": null,
            "left": null,
            "margin": null,
            "max_height": null,
            "max_width": null,
            "min_height": null,
            "min_width": null,
            "object_fit": null,
            "object_position": null,
            "order": null,
            "overflow": null,
            "overflow_x": null,
            "overflow_y": null,
            "padding": null,
            "right": null,
            "top": null,
            "visibility": null,
            "width": null
          }
        },
        "df5939b1b9b34b3bbae630baf928f470": {
          "model_module": "@jupyter-widgets/controls",
          "model_module_version": "1.5.0",
          "model_name": "ProgressStyleModel",
          "state": {
            "_model_module": "@jupyter-widgets/controls",
            "_model_module_version": "1.5.0",
            "_model_name": "ProgressStyleModel",
            "_view_count": null,
            "_view_module": "@jupyter-widgets/base",
            "_view_module_version": "1.2.0",
            "_view_name": "StyleView",
            "bar_color": null,
            "description_width": ""
          }
        },
        "e80da1ba82e340b28d344ff1008f661a": {
          "model_module": "@jupyter-widgets/controls",
          "model_module_version": "1.5.0",
          "model_name": "HTMLModel",
          "state": {
            "_dom_classes": [],
            "_model_module": "@jupyter-widgets/controls",
            "_model_module_version": "1.5.0",
            "_model_name": "HTMLModel",
            "_view_count": null,
            "_view_module": "@jupyter-widgets/controls",
            "_view_module_version": "1.5.0",
            "_view_name": "HTMLView",
            "description": "",
            "description_tooltip": null,
            "layout": "IPY_MODEL_20d61d0b42ce45cbac8097eb748486b5",
            "placeholder": "​",
            "style": "IPY_MODEL_d0b902dd2698413689fb9c63c2189b6e",
            "value": " 1/1 [00:00&lt;00:00, 37.05it/s]"
          }
        },
        "e851dd6067944891849085d18ea367f8": {
          "model_module": "@jupyter-widgets/controls",
          "model_module_version": "1.5.0",
          "model_name": "HBoxModel",
          "state": {
            "_dom_classes": [],
            "_model_module": "@jupyter-widgets/controls",
            "_model_module_version": "1.5.0",
            "_model_name": "HBoxModel",
            "_view_count": null,
            "_view_module": "@jupyter-widgets/controls",
            "_view_module_version": "1.5.0",
            "_view_name": "HBoxView",
            "box_style": "",
            "children": [
              "IPY_MODEL_eba7ded6c45245c2864b9f22c9cd39a9",
              "IPY_MODEL_00330bcddb624679a97abc951e39ab7d",
              "IPY_MODEL_4021476a85384c8599fd98ab81c5f549"
            ],
            "layout": "IPY_MODEL_f52b351595ea4eaf91a9730c95324bbc"
          }
        },
        "eba7ded6c45245c2864b9f22c9cd39a9": {
          "model_module": "@jupyter-widgets/controls",
          "model_module_version": "1.5.0",
          "model_name": "HTMLModel",
          "state": {
            "_dom_classes": [],
            "_model_module": "@jupyter-widgets/controls",
            "_model_module_version": "1.5.0",
            "_model_name": "HTMLModel",
            "_view_count": null,
            "_view_module": "@jupyter-widgets/controls",
            "_view_module_version": "1.5.0",
            "_view_name": "HTMLView",
            "description": "",
            "description_tooltip": null,
            "layout": "IPY_MODEL_811b9ebcc0084c1c9380dd67ce38982c",
            "placeholder": "​",
            "style": "IPY_MODEL_5742b3e4df00424dbb71c70099148a45",
            "value": "100%"
          }
        },
        "ee15085293c541e486b5c359b8f6fc55": {
          "model_module": "@jupyter-widgets/controls",
          "model_module_version": "1.5.0",
          "model_name": "HBoxModel",
          "state": {
            "_dom_classes": [],
            "_model_module": "@jupyter-widgets/controls",
            "_model_module_version": "1.5.0",
            "_model_name": "HBoxModel",
            "_view_count": null,
            "_view_module": "@jupyter-widgets/controls",
            "_view_module_version": "1.5.0",
            "_view_name": "HBoxView",
            "box_style": "",
            "children": [
              "IPY_MODEL_026ef66cedd94cec99218ce73545a5a6",
              "IPY_MODEL_04e6355162df4adc949e13fcd6a6c69f",
              "IPY_MODEL_8c551bb44c6e4315a284f116edfe9eef"
            ],
            "layout": "IPY_MODEL_8b50b66221de42d185a1272839df48b0"
          }
        },
        "f52b351595ea4eaf91a9730c95324bbc": {
          "model_module": "@jupyter-widgets/base",
          "model_module_version": "1.2.0",
          "model_name": "LayoutModel",
          "state": {
            "_model_module": "@jupyter-widgets/base",
            "_model_module_version": "1.2.0",
            "_model_name": "LayoutModel",
            "_view_count": null,
            "_view_module": "@jupyter-widgets/base",
            "_view_module_version": "1.2.0",
            "_view_name": "LayoutView",
            "align_content": null,
            "align_items": null,
            "align_self": null,
            "border": null,
            "bottom": null,
            "display": null,
            "flex": null,
            "flex_flow": null,
            "grid_area": null,
            "grid_auto_columns": null,
            "grid_auto_flow": null,
            "grid_auto_rows": null,
            "grid_column": null,
            "grid_gap": null,
            "grid_row": null,
            "grid_template_areas": null,
            "grid_template_columns": null,
            "grid_template_rows": null,
            "height": null,
            "justify_content": null,
            "justify_items": null,
            "left": null,
            "margin": null,
            "max_height": null,
            "max_width": null,
            "min_height": null,
            "min_width": null,
            "object_fit": null,
            "object_position": null,
            "order": null,
            "overflow": null,
            "overflow_x": null,
            "overflow_y": null,
            "padding": null,
            "right": null,
            "top": null,
            "visibility": null,
            "width": null
          }
        },
        "fa27041805ef442585fe028f65768fc3": {
          "model_module": "@jupyter-widgets/base",
          "model_module_version": "1.2.0",
          "model_name": "LayoutModel",
          "state": {
            "_model_module": "@jupyter-widgets/base",
            "_model_module_version": "1.2.0",
            "_model_name": "LayoutModel",
            "_view_count": null,
            "_view_module": "@jupyter-widgets/base",
            "_view_module_version": "1.2.0",
            "_view_name": "LayoutView",
            "align_content": null,
            "align_items": null,
            "align_self": null,
            "border": null,
            "bottom": null,
            "display": null,
            "flex": null,
            "flex_flow": null,
            "grid_area": null,
            "grid_auto_columns": null,
            "grid_auto_flow": null,
            "grid_auto_rows": null,
            "grid_column": null,
            "grid_gap": null,
            "grid_row": null,
            "grid_template_areas": null,
            "grid_template_columns": null,
            "grid_template_rows": null,
            "height": null,
            "justify_content": null,
            "justify_items": null,
            "left": null,
            "margin": null,
            "max_height": null,
            "max_width": null,
            "min_height": null,
            "min_width": null,
            "object_fit": null,
            "object_position": null,
            "order": null,
            "overflow": null,
            "overflow_x": null,
            "overflow_y": null,
            "padding": null,
            "right": null,
            "top": null,
            "visibility": null,
            "width": null
          }
        },
        "ff136d0dde6143dcac55d39f08547ce7": {
          "model_module": "@jupyter-widgets/base",
          "model_module_version": "1.2.0",
          "model_name": "LayoutModel",
          "state": {
            "_model_module": "@jupyter-widgets/base",
            "_model_module_version": "1.2.0",
            "_model_name": "LayoutModel",
            "_view_count": null,
            "_view_module": "@jupyter-widgets/base",
            "_view_module_version": "1.2.0",
            "_view_name": "LayoutView",
            "align_content": null,
            "align_items": null,
            "align_self": null,
            "border": null,
            "bottom": null,
            "display": null,
            "flex": null,
            "flex_flow": null,
            "grid_area": null,
            "grid_auto_columns": null,
            "grid_auto_flow": null,
            "grid_auto_rows": null,
            "grid_column": null,
            "grid_gap": null,
            "grid_row": null,
            "grid_template_areas": null,
            "grid_template_columns": null,
            "grid_template_rows": null,
            "height": null,
            "justify_content": null,
            "justify_items": null,
            "left": null,
            "margin": null,
            "max_height": null,
            "max_width": null,
            "min_height": null,
            "min_width": null,
            "object_fit": null,
            "object_position": null,
            "order": null,
            "overflow": null,
            "overflow_x": null,
            "overflow_y": null,
            "padding": null,
            "right": null,
            "top": null,
            "visibility": null,
            "width": null
          }
        }
      }
    }
  },
  "nbformat": 4,
  "nbformat_minor": 0
}
